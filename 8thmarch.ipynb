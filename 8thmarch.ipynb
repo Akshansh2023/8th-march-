{
 "cells": [
  {
   "cell_type": "markdown",
   "id": "15891e61-ac4e-4e11-9259-c577e45ba139",
   "metadata": {},
   "source": [
    "Q1. What is the Probability density function?"
   ]
  },
  {
   "cell_type": "markdown",
   "id": "7feae127-fdda-4db1-9fd7-d51acc6de7f2",
   "metadata": {},
   "source": [
    "# Answer \n",
    "The Probability Density Function (PDF) is a mathematical function that describes the likelihood of a continuous random variable taking on a particular value or range of values. \n",
    "Specifically, the PDF is a function that maps the possible values of a random variable to the probabilities of observing those values.\n",
    "The PDF is often denoted as f(x), where x is the random variable. The integral of the PDF over a range of values gives the probability of observing the random variable falling within that range.\n",
    "In other words, the PDF represents the distribution of a continuous random variable, which is often visualized as a smooth curve. \n",
    "The area under the curve of the PDF between two values gives the probability of the random variable falling within that range."
   ]
  },
  {
   "cell_type": "markdown",
   "id": "7793b946-89d9-45b2-aaf2-a7a984bf4369",
   "metadata": {},
   "source": [
    "Q2. What are the types of Probability distribution?"
   ]
  },
  {
   "cell_type": "markdown",
   "id": "aff4effd-e114-4f53-9430-70ff7db619c2",
   "metadata": {},
   "source": [
    "# Answer \n",
    "There are several types of Probability distributions, but the most common are:\n",
    "Normal Distribution: This is also known as the Gaussian distribution or the bell curve. It is a continuous probability distribution that is symmetric around the mean, with the majority of observations falling within one standard deviation of the mean.\n",
    "Binomial Distribution: This is a discrete probability distribution that describes the number of successes in a fixed number of independent trials, where each trial has the same probability of success.\n",
    "Poisson Distribution: This is a discrete probability distribution that describes the number of events that occur in a fixed interval of time or space. It is often used to model rare events that occur randomly over time or space.\n",
    "Exponential Distribution: This is a continuous probability distribution that describes the time between events that occur randomly and independently of each other. It is often used to model the time between arrivals in a queue or the time until failure of a system.\n",
    "Uniform Distribution: This is a continuous probability distribution where all values within a given interval are equally likely. It is often used to model situations where all outcomes are equally likely, such as rolling a fair dice.\n",
    "Beta Distribution: This is a continuous probability distribution that is commonly used to model the distribution of probabilities, such as the probability of success in a Bernoulli trial.\n",
    "These are just a few examples of the many probability distributions that are used in statistics and probability theory."
   ]
  },
  {
   "cell_type": "markdown",
   "id": "62b00075-c940-46d7-94bc-3e1cc75b83a1",
   "metadata": {},
   "source": [
    "Q3. Write a Python function to calculate the probability density function of a normal distribution with\n",
    "given mean and standard deviation at a given point."
   ]
  },
  {
   "cell_type": "markdown",
   "id": "b9668829-6ea6-495e-800e-b6a2be3ef691",
   "metadata": {},
   "source": [
    "# answer \n",
    "A Python function that calculates the probability density function (PDF) of a normal distribution at a given point x, given the mean mu and standard deviation sigma.\n",
    "\n",
    "\n",
    "import math\n",
    "\n",
    "def normal_pdf(x, mu, sigma):\n",
    "\n",
    "    return (1 / (sigma * math.sqrt(2 * math.pi))) * math.exp(-((x - mu)**2 / (2 * sigma**2)))\n",
    "    \n",
    "pdf_value = normal_pdf(2, 0, 1)\n",
    "\n",
    "print(pdf_value) \n",
    "\n",
    "\n",
    "\n",
    "In the example above, we're calculating the PDF of a normal distribution with mean 0 and standard deviation 1 at the point x=2. The function returns the PDF value at that point, which is approximately 0.05399."
   ]
  },
  {
   "cell_type": "markdown",
   "id": "c898ee3b-2874-4195-9cc0-ff03c6985a8e",
   "metadata": {},
   "source": [
    "Q4. What are the properties of Binomial distribution? Give two examples of events where binomial\n",
    "distribution can be applied."
   ]
  },
  {
   "cell_type": "markdown",
   "id": "9c5b9763-f1a1-4e80-bf78-071eacf09e24",
   "metadata": {},
   "source": [
    "# Answer\n",
    "The binomial distribution is a discrete probability distribution that describes the number of successes in a fixed number of independent trials, each with the same probability of success. Here are some properties of the binomial distribution:\n",
    "\n",
    "The trials are independent.\n",
    "Each trial has only two possible outcomes: success or failure.\n",
    "The probability of success is constant for each trial.\n",
    "The number of trials is fixed.\n",
    "Two examples of events where the binomial distribution can be applied are:\n",
    "\n",
    "Coin flipping: Suppose we flip a fair coin 10 times and we want to know the probability of getting exactly 5 heads. In this case, we can use the binomial distribution with n=10 and p=0.5 to calculate the probability of getting exactly 5 heads.\n",
    "Manufacturing defects: Suppose a factory produces a certain product and we want to know the probability of getting at most 2 defective products in a batch of 10. In this case, we can use the binomial distribution with n=10 and some given probability of defective products p to calculate the probability of getting at most 2 defective products.\n",
    "In general, the binomial distribution is often used in situations where we have a fixed number of trials and we want to know the probability of a certain number of successes or failures in those trials."
   ]
  },
  {
   "cell_type": "markdown",
   "id": "52730017-961b-4f70-be3b-4db8c274c33a",
   "metadata": {},
   "source": [
    "Q5. Generate a random sample of size 1000 from a binomial distribution with probability of success 0.4\n",
    "and plot a histogram of the results using matplotlib.\n",
    "#  Answer\n",
    "import numpy as np\n",
    "import matplotlib.pyplot as plt\n",
    "\n",
    "# Set the parameters for the binomial distribution\n",
    "n = 10\n",
    "p = 0.4\n",
    "\n",
    "# Generate a random sample of size 1000 from the binomial distribution\n",
    "sample = np.random.binomial(n, p, size=1000)\n",
    "\n",
    "# Plot a histogram of the sample using matplotlib\n",
    "plt.hist(sample, bins='auto')\n",
    "plt.title(f\"Histogram of {n} trials with p={p}\")\n",
    "plt.xlabel(\"Number of successes\")\n",
    "plt.ylabel(\"Frequency\")\n",
    "plt.show()\n"
   ]
  },
  {
   "cell_type": "markdown",
   "id": "565e07b8-11ba-4116-80d2-301d12d3d124",
   "metadata": {},
   "source": [
    "Q6. Write a Python function to calculate the cumulative distribution function of a Poisson distribution\n",
    "with given mean at a given point.\n",
    "# Answer \n",
    "import math\n",
    "\n",
    "def poisson_cdf(x, mean):\n",
    "    \"\"\"\n",
    "    Calculates the cumulative distribution function (CDF) of a Poisson distribution with a given mean at a given point.\n",
    "\n",
    "    Parameters:\n",
    "    x (int): The point at which to evaluate the CDF.\n",
    "    mean (float): The mean of the Poisson distribution.\n",
    "\n",
    "    Returns:\n",
    "    float: The cumulative probability up to and including x.\n",
    "    \"\"\"\n",
    "    cdf = 0.0\n",
    "    for i in range(x+1):\n",
    "        cdf += math.exp(-mean) * mean**i / math.factorial(i)\n",
    "    return cdf\n"
   ]
  },
  {
   "cell_type": "markdown",
   "id": "513cad00-04c6-469a-a9ce-e124cd73dead",
   "metadata": {},
   "source": [
    "Q7. How Binomial distribution different from Poisson distribution?\n",
    "# Answer\n",
    "Binomial distribution and Poisson distribution are both used to model the number of events in a certain time period or sample. However, there are some key differences between these two distributions:\n",
    "\n",
    "Number of Trials: The binomial distribution is used when the number of trials is fixed and known in advance, whereas the Poisson distribution is used when the number of trials is not fixed and can be very large.\n",
    "\n",
    "Probability of Success: In the binomial distribution, the probability of success remains constant from trial to trial, while in the Poisson distribution, the probability of success is related to the rate at which events occur.\n",
    "\n",
    "Continuity: The binomial distribution is a discrete probability distribution, while the Poisson distribution is a continuous probability distribution.\n",
    "\n",
    "Mean and Variance: In the binomial distribution, the mean and variance are both functions of the number of trials and the probability of success, while in the Poisson distribution, the mean and variance are both equal to the rate parameter.\n",
    "\n",
    "Approximation: The Poisson distribution is often used as an approximation of the binomial distribution when the number of trials is very large and the probability of success is very small.\n",
    "\n",
    "Applications: The binomial distribution is commonly used in applications such as quality control, reliability testing, and polling. The Poisson distribution is commonly used in applications such as traffic analysis, queuing theory, and inventory management."
   ]
  },
  {
   "cell_type": "code",
   "execution_count": null,
   "id": "14d2d9e7-519e-4bec-a261-d70ab13ca422",
   "metadata": {},
   "outputs": [],
   "source": [
    "Q8. Generate a random sample of size 1000 from a Poisson distribution with mean 5 and calculate the\n",
    "sample mean and variance."
   ]
  },
  {
   "cell_type": "code",
   "execution_count": null,
   "id": "f810f0ac-5a72-48ea-ab8f-3edb18fb8141",
   "metadata": {},
   "outputs": [],
   "source": [
    "# Answer\n",
    "import numpy as np\n",
    "\n",
    "# Set the parameters for the Poisson distribution\n",
    "mean = 5\n",
    "\n",
    "# Generate a random sample of size 1000 from the Poisson distribution\n",
    "sample = np.random.poisson(mean, size=1000)\n",
    "\n",
    "# Calculate the sample mean and variance\n",
    "sample_mean = np.mean(sample)\n",
    "sample_variance = np.var(sample)\n",
    "\n",
    "print(\"Sample mean:\", sample_mean)\n",
    "print(\"Sample variance:\", sample_variance)\n"
   ]
  },
  {
   "cell_type": "code",
   "execution_count": null,
   "id": "f5ae4811-066e-45d0-bf19-8180c03884a7",
   "metadata": {},
   "outputs": [],
   "source": [
    "Q9. How mean and variance are related in Binomial distribution and Poisson distribution?"
   ]
  },
  {
   "cell_type": "code",
   "execution_count": null,
   "id": "79d59cf1-35f0-4579-b3ae-0220c87adbc7",
   "metadata": {},
   "outputs": [],
   "source": [
    "In Binomial distribution, the mean and variance are related as follows:\n",
    "\n",
    "Mean: The mean of a Binomial distribution is given by μ = np, where n is the number of trials and p is the probability of success in each trial.\n",
    "\n",
    "Variance: The variance of a Binomial distribution is given by σ^2 = np(1-p).\n",
    "\n",
    "In other words, the variance of a Binomial distribution is equal to the product of the number of trials, the probability of success, and the probability of failure.\n",
    "\n",
    "In Poisson distribution, the mean and variance are equal and are both given by λ, which is the rate parameter that represents the average number of events per unit of time or space.\n",
    "\n",
    "In summary, the mean and variance are related in a different way in Binomial distribution and Poisson distribution.\n",
    "In Binomial distribution, the variance depends on the probability of success and the probability of failure, while in Poisson distribution, the variance is equal to the mean, which is represented by the rate parameter λ."
   ]
  },
  {
   "cell_type": "code",
   "execution_count": null,
   "id": "c17681bd-bf03-47d3-b441-7f1a2dbec885",
   "metadata": {},
   "outputs": [],
   "source": [
    "Q10. In normal distribution with respect to mean position, where does the least frequent data appear?\n",
    "# Answer In a normal distribution, the least frequent data points are located in the tails of the distribution, which are the regions that are farthest from the mean. Specifically, the least frequent data points are located in the regions that are more than 2 or 3 standard deviations away from the mean.\n",
    "This is because the normal distribution is a symmetric distribution, where the majority of the data is concentrated around the mean and decreases gradually as we move away from the mean towards the tails of the distribution. As a result, the data points in the tails of the distribution are relatively rare and occur with a lower frequency compared to the data points near the mean."
   ]
  },
  {
   "cell_type": "code",
   "execution_count": null,
   "id": "a090ce2c-5a36-4c2b-bc57-7566d448230c",
   "metadata": {},
   "outputs": [],
   "source": []
  },
  {
   "cell_type": "code",
   "execution_count": null,
   "id": "7f342592-4087-4130-8fe5-78226cc81de4",
   "metadata": {},
   "outputs": [],
   "source": []
  },
  {
   "cell_type": "code",
   "execution_count": null,
   "id": "1ebb3b6c-571a-4f69-b64c-3c4f991d37bc",
   "metadata": {},
   "outputs": [],
   "source": []
  },
  {
   "cell_type": "code",
   "execution_count": null,
   "id": "7fcc1c13-f4dc-48dc-845d-70bb9ba83b37",
   "metadata": {},
   "outputs": [],
   "source": []
  }
 ],
 "metadata": {
  "kernelspec": {
   "display_name": "Python 3 (ipykernel)",
   "language": "python",
   "name": "python3"
  },
  "language_info": {
   "codemirror_mode": {
    "name": "ipython",
    "version": 3
   },
   "file_extension": ".py",
   "mimetype": "text/x-python",
   "name": "python",
   "nbconvert_exporter": "python",
   "pygments_lexer": "ipython3",
   "version": "3.10.8"
  }
 },
 "nbformat": 4,
 "nbformat_minor": 5
}
